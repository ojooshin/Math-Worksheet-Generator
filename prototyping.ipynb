{
 "cells": [
  {
   "cell_type": "markdown",
   "id": "a218e958-e537-4d5a-8e3e-0e87ba404a70",
   "metadata": {},
   "source": [
    "# Python Notebook for prototyping code\n",
    "### Owen"
   ]
  },
  {
   "cell_type": "code",
   "execution_count": 1,
   "id": "ec57d3cc-ddf0-422b-89fc-9000c8b752be",
   "metadata": {},
   "outputs": [],
   "source": [
    "import numpy as np\n"
   ]
  },
  {
   "cell_type": "code",
   "execution_count": 4,
   "id": "61a1bca8-3c4f-4811-b1b0-d0884f7ea012",
   "metadata": {},
   "outputs": [],
   "source": [
    "from jinja2 import Environment, FileSystemLoader"
   ]
  },
  {
   "cell_type": "code",
   "execution_count": 7,
   "id": "22cb6a87-5043-4115-bc39-2ea6c95cabd4",
   "metadata": {},
   "outputs": [],
   "source": [
    "env = Environment(loader = FileSystemLoader('templates'))\n",
    "\n",
    "template = env.get_template('maintex.jinja')\n",
    "\n",
    "with open(\"./renders/main.tex\", 'w') as f:\n",
    "    print(template.render(num = [6]), file = f)"
   ]
  },
  {
   "cell_type": "code",
   "execution_count": null,
   "id": "48b87b73-f211-4dc4-820d-89882bd459cb",
   "metadata": {},
   "outputs": [],
   "source": []
  },
  {
   "cell_type": "code",
   "execution_count": 2,
   "id": "0e02ae1d-0f5c-4750-a098-b342b3da3b19",
   "metadata": {},
   "outputs": [],
   "source": [
    "template0 = open(\"templates/main.tex\", 'r')"
   ]
  },
  {
   "cell_type": "code",
   "execution_count": 21,
   "id": "10a2aae9-9d95-446f-8361-0e2e468c5b95",
   "metadata": {},
   "outputs": [
    {
     "name": "stdout",
     "output_type": "stream",
     "text": [
      "\n",
      "\n",
      "% Set page size and margins\n",
      "\n",
      "% Replace `letterpaper' with `a4paper' for UK/EU standard size\n",
      "\n",
      "\\usepackage[letterpaper,top=2cm,bottom=2cm,left=2cm,right=2cm,marginparwidth=1.75cm]{geometry}\n",
      "\n",
      "\n",
      "\n"
     ]
    }
   ],
   "source": [
    "temp0 = 0\n",
    "for line in template0:\n",
    "    print(line)\n",
    "    temp0 = temp0 + 1\n",
    "    if (temp0 == 5):\n",
    "        break"
   ]
  },
  {
   "cell_type": "code",
   "execution_count": 22,
   "id": "80475684-c9c5-44ca-b97e-619f6f8c17e5",
   "metadata": {},
   "outputs": [],
   "source": [
    "template0.close()"
   ]
  },
  {
   "cell_type": "code",
   "execution_count": 56,
   "id": "1c1f8203-a937-416e-a581-14d1336c1fa2",
   "metadata": {},
   "outputs": [],
   "source": [
    "ex0 = open(\"example.txt\", 'w')\n",
    "#ex0.write(\"One\\nTwo\\nThree\\n\")\n",
    "#ex0.write(\"Four\\n\")\n",
    "ex0.write(exfilecontent)\n",
    "ex0.close()"
   ]
  },
  {
   "cell_type": "code",
   "execution_count": 51,
   "id": "e91e3076-8716-43ef-b683-8f8366d96a1a",
   "metadata": {},
   "outputs": [
    {
     "name": "stdout",
     "output_type": "stream",
     "text": [
      "One\n",
      "\n"
     ]
    }
   ],
   "source": [
    "ex0 = open(\"example.txt\", 'r+')\n",
    "print(ex0.readline(10))\n",
    "ex0.write(\"Hi\")\n",
    "ex0.close()"
   ]
  },
  {
   "cell_type": "code",
   "execution_count": 55,
   "id": "d5c738f2-1c53-4d2d-988f-b852728de7a4",
   "metadata": {},
   "outputs": [],
   "source": [
    "exfilecontent = \"Stuff stuff\\nBREAK1\\nhello\\nBREAK2\\nGoodbye\""
   ]
  },
  {
   "cell_type": "code",
   "execution_count": 52,
   "id": "2ac5aec7-a09e-4ba8-b9f4-7e1b6ba31d76",
   "metadata": {},
   "outputs": [
    {
     "name": "stdout",
     "output_type": "stream",
     "text": [
      "The string 'Three' was found at position 8.\n"
     ]
    }
   ],
   "source": [
    "def find_string_in_file_with_find(file_path, search_string):\n",
    "    try:\n",
    "        with open(file_path, 'r') as file:\n",
    "            content = file.read()\n",
    "            index = content.find(search_string)\n",
    "            if index != -1:\n",
    "                print(f\"The string '{search_string}' was found at position {index}.\")\n",
    "            else:\n",
    "                print(f\"The string '{search_string}' was not found in the file.\")\n",
    "    except FileNotFoundError:\n",
    "        print(f\"File {file_path} not found.\")\n",
    "    except Exception as e:\n",
    "        print(f\"An error occurred: {e}\")\n",
    "    return (content, index)\n",
    "\n",
    "# Example usage\n",
    "content, index = find_string_in_file_with_find('example.txt', 'Three')"
   ]
  },
  {
   "cell_type": "code",
   "execution_count": 66,
   "id": "7b77a526-1006-494c-b0c7-61413fb20447",
   "metadata": {},
   "outputs": [
    {
     "name": "stdout",
     "output_type": "stream",
     "text": [
      "Stuff stuff\n",
      "BREAK1\n",
      "hello\n",
      "BREAK2\n",
      "Goodbye\n",
      "hello\n"
     ]
    }
   ],
   "source": [
    "with open('example.txt', 'r') as file:\n",
    "    content = file.read()\n",
    "index1 = content.find(\"BREAK1\")\n",
    "index2 = content.find(\"BREAK2\")\n",
    "print(content)\n",
    "\n",
    "print(content[index1+len(\"BREAK1\")+1:index2-1])"
   ]
  },
  {
   "cell_type": "code",
   "execution_count": 59,
   "id": "20f9f766-07f0-45cc-b2e0-35b6b9dcb574",
   "metadata": {},
   "outputs": [
    {
     "name": "stdout",
     "output_type": "stream",
     "text": [
      "Stuff stuff\n"
     ]
    }
   ],
   "source": [
    "print(content[:index], end='')\n"
   ]
  },
  {
   "cell_type": "code",
   "execution_count": null,
   "id": "bdba4af6-cedc-4373-9df4-5c7de56e967d",
   "metadata": {},
   "outputs": [
    {
     "name": "stdout",
     "output_type": "stream",
     "text": [
      "Hello Geeks!\n"
     ]
    }
   ],
   "source": [
    "# loading the environment\n",
    "env = Environment(loader = FileSystemLoader('templates'))\n",
    "\n",
    "# loading the template\n",
    "template = env.get_template('HelloName.jinja')\n",
    "\n",
    "# rendering the template and storing the resultant text in variable output\n",
    "output = template.render(name = 'Geeks')\n",
    "\n",
    "# printing the output on screen\n",
    "print(output)"
   ]
  },
  {
   "cell_type": "code",
   "execution_count": 3,
   "id": "cb4dfdd3-ae03-45f9-af5c-d7db2818ddea",
   "metadata": {},
   "outputs": [],
   "source": [
    "f = open(\"./renders/HelloName.txt\", mode='w')\n",
    "print(output, file=f)\n",
    "f.close()"
   ]
  },
  {
   "cell_type": "code",
   "execution_count": 70,
   "id": "51752e73-da08-40fd-b140-775fef9a4df5",
   "metadata": {},
   "outputs": [],
   "source": [
    "env.trim_blocks = True\n",
    "env.lstrip_blocks = True"
   ]
  },
  {
   "cell_type": "code",
   "execution_count": 13,
   "id": "f450474f-1dad-49f6-8291-f8614143a4f6",
   "metadata": {},
   "outputs": [
    {
     "name": "stdout",
     "output_type": "stream",
     "text": [
      "This is pdfTeX, Version 3.141592653-2.6-1.40.25 (TeX Live 2023/Debian) (preloaded format=pdftex)\n",
      " restricted \\write18 enabled.\n",
      "entering extended mode\n",
      "(./renders/main.tex\n",
      "! Undefined control sequence.\n",
      "l.1 \\documentclass\n",
      "                  {article}\n",
      "? ^C\n",
      "! Interruption.\n",
      "<to be read again> \n",
      "                   {\n",
      "l.1 \\documentclass{\n",
      "                   article}\n",
      "? "
     ]
    }
   ],
   "source": [
    "!pdftex renders/main.tex"
   ]
  },
  {
   "cell_type": "code",
   "execution_count": null,
   "id": "4b0da6b7-f856-4eb5-bb16-ecdc9e19194f",
   "metadata": {},
   "outputs": [],
   "source": []
  }
 ],
 "metadata": {
  "kernelspec": {
   "display_name": "Python 3 (ipykernel)",
   "language": "python",
   "name": "python3"
  },
  "language_info": {
   "codemirror_mode": {
    "name": "ipython",
    "version": 3
   },
   "file_extension": ".py",
   "mimetype": "text/x-python",
   "name": "python",
   "nbconvert_exporter": "python",
   "pygments_lexer": "ipython3",
   "version": "3.12.7"
  }
 },
 "nbformat": 4,
 "nbformat_minor": 5
}
